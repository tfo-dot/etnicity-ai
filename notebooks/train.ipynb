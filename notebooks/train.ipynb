{
 "cells": [
  {
   "cell_type": "code",
   "execution_count": 1,
   "id": "eb1496f1-8c4e-4b81-abb9-f89bb6728141",
   "metadata": {},
   "outputs": [],
   "source": [
    "import numpy as np\n",
    "import pandas as pd\n",
    "import matplotlib.pyplot as plt\n",
    "import os\n",
    "\n",
    "import json\n",
    "\n",
    "import torchvision\n",
    "import torch\n",
    "\n",
    "from pathlib import Path\n",
    "from PIL import Image\n",
    "from pprint import pprint\n",
    "from tqdm import tqdm\n",
    "\n",
    "from torch import nn, optim\n",
    "from torchvision.models import resnet50\n",
    "from torchvision import transforms\n",
    "from torch.utils.data import DataLoader\n",
    "from torch.optim import lr_scheduler\n",
    "from torch.utils.tensorboard import SummaryWriter\n",
    "from torch.utils.data import WeightedRandomSampler\n",
    "\n",
    "# custom imports\n",
    "from etnicity_ai import data, resnet_model, utils, metrics, train\n",
    "\n",
    "# launch tensorboard writer\n",
    "writer = SummaryWriter('../runs/fairface/')\n",
    "\n",
    "utils.set_random_seed(42)\n",
    "\n",
    "%matplotlib inline\n",
    "%load_ext autoreload\n",
    "%autoreload 2"
   ]
  },
  {
   "cell_type": "code",
   "execution_count": 15,
   "id": "d297e46a-d133-44f7-860e-9c77e46b54b9",
   "metadata": {},
   "outputs": [],
   "source": [
    "train_label = pd.read_csv('../data/fairface_label_train.csv')\n",
    "train_files = train_label['file'].tolist()\n",
    "\n",
    "val_label = pd.read_csv('../data/fairface_label_val.csv')\n",
    "val_files = val_label['file'].tolist()\n",
    "\n",
    "dataset_files = None\n",
    "\n",
    "if not os.path.exists(\"../data/dataset.json\"):\n",
    "\n",
    "    train_files_random = train_label['file'].tolist()\n",
    "    np.random.shuffle(train_files_random)\n",
    "\n",
    "    split_idx = int(len(train_files_random) * 0.8)\n",
    "    train_set, test_set = train_files_random[:split_idx], train_files_random[split_idx:]\n",
    "\n",
    "    dataset_files = {\n",
    "        'train': train_set,\n",
    "        'test': test_set,\n",
    "        'val': val_files\n",
    "    }\n",
    "    \n",
    "    with open(\"../data/dataset.json\", \"w\") as file:\n",
    "        json.dump(dataset_files, file)\n",
    "else:\n",
    "    with open(\"../data/dataset.json\", \"r\") as file:\n",
    "        dataset_files = json.load(file)\n",
    "\n",
    "resnet = resnet50(weights='IMAGENET1K_V1')"
   ]
  },
  {
   "cell_type": "code",
   "execution_count": 12,
   "id": "5c7e691f-58c1-451c-ae60-4db78e78962c",
   "metadata": {},
   "outputs": [],
   "source": [
    "race_dict = {\n",
    "    'Black': 4,\n",
    "          'East Asian': 3,\n",
    "          'Indian': 2,\n",
    "          'Latino_Hispanic': 1,\n",
    "          'Middle Eastern': 6,\n",
    "          'Southeast Asian': 5,\n",
    "          'White': 0\n",
    "}\n",
    "encoders = {'race' : race_dict}"
   ]
  },
  {
   "cell_type": "code",
   "execution_count": 16,
   "id": "36bb4495-f845-4b86-8c8a-ae63ed05d326",
   "metadata": {},
   "outputs": [
    {
     "data": {
      "text/html": [
       "<div>\n",
       "<style scoped>\n",
       "    .dataframe tbody tr th:only-of-type {\n",
       "        vertical-align: middle;\n",
       "    }\n",
       "\n",
       "    .dataframe tbody tr th {\n",
       "        vertical-align: top;\n",
       "    }\n",
       "\n",
       "    .dataframe thead th {\n",
       "        text-align: right;\n",
       "    }\n",
       "</style>\n",
       "<table border=\"1\" class=\"dataframe\">\n",
       "  <thead>\n",
       "    <tr style=\"text-align: right;\">\n",
       "      <th></th>\n",
       "      <th>file</th>\n",
       "      <th>age</th>\n",
       "      <th>gender</th>\n",
       "      <th>race</th>\n",
       "      <th>service_test</th>\n",
       "    </tr>\n",
       "  </thead>\n",
       "  <tbody>\n",
       "    <tr>\n",
       "      <th>0</th>\n",
       "      <td>train/1.jpg</td>\n",
       "      <td>50-59</td>\n",
       "      <td>Male</td>\n",
       "      <td>East Asian</td>\n",
       "      <td>True</td>\n",
       "    </tr>\n",
       "    <tr>\n",
       "      <th>1</th>\n",
       "      <td>train/2.jpg</td>\n",
       "      <td>30-39</td>\n",
       "      <td>Female</td>\n",
       "      <td>Indian</td>\n",
       "      <td>False</td>\n",
       "    </tr>\n",
       "    <tr>\n",
       "      <th>2</th>\n",
       "      <td>train/3.jpg</td>\n",
       "      <td>3-9</td>\n",
       "      <td>Female</td>\n",
       "      <td>Black</td>\n",
       "      <td>False</td>\n",
       "    </tr>\n",
       "    <tr>\n",
       "      <th>3</th>\n",
       "      <td>train/4.jpg</td>\n",
       "      <td>20-29</td>\n",
       "      <td>Female</td>\n",
       "      <td>Indian</td>\n",
       "      <td>True</td>\n",
       "    </tr>\n",
       "    <tr>\n",
       "      <th>4</th>\n",
       "      <td>train/5.jpg</td>\n",
       "      <td>20-29</td>\n",
       "      <td>Female</td>\n",
       "      <td>Indian</td>\n",
       "      <td>True</td>\n",
       "    </tr>\n",
       "  </tbody>\n",
       "</table>\n",
       "</div>"
      ],
      "text/plain": [
       "          file    age  gender        race  service_test\n",
       "0  train/1.jpg  50-59    Male  East Asian          True\n",
       "1  train/2.jpg  30-39  Female      Indian         False\n",
       "2  train/3.jpg    3-9  Female       Black         False\n",
       "3  train/4.jpg  20-29  Female      Indian          True\n",
       "4  train/5.jpg  20-29  Female      Indian          True"
      ]
     },
     "execution_count": 16,
     "metadata": {},
     "output_type": "execute_result"
    }
   ],
   "source": [
    "train_label.head()"
   ]
  },
  {
   "cell_type": "code",
   "execution_count": 17,
   "id": "01612fbf-7c2c-47d6-86f7-154a7e4f1533",
   "metadata": {},
   "outputs": [
    {
     "data": {
      "text/html": [
       "<div>\n",
       "<style scoped>\n",
       "    .dataframe tbody tr th:only-of-type {\n",
       "        vertical-align: middle;\n",
       "    }\n",
       "\n",
       "    .dataframe tbody tr th {\n",
       "        vertical-align: top;\n",
       "    }\n",
       "\n",
       "    .dataframe thead th {\n",
       "        text-align: right;\n",
       "    }\n",
       "</style>\n",
       "<table border=\"1\" class=\"dataframe\">\n",
       "  <thead>\n",
       "    <tr style=\"text-align: right;\">\n",
       "      <th></th>\n",
       "      <th>file</th>\n",
       "      <th>race</th>\n",
       "    </tr>\n",
       "  </thead>\n",
       "  <tbody>\n",
       "    <tr>\n",
       "      <th>0</th>\n",
       "      <td>train/1.jpg</td>\n",
       "      <td>East Asian</td>\n",
       "    </tr>\n",
       "    <tr>\n",
       "      <th>1</th>\n",
       "      <td>train/2.jpg</td>\n",
       "      <td>Indian</td>\n",
       "    </tr>\n",
       "    <tr>\n",
       "      <th>2</th>\n",
       "      <td>train/3.jpg</td>\n",
       "      <td>Black</td>\n",
       "    </tr>\n",
       "    <tr>\n",
       "      <th>3</th>\n",
       "      <td>train/4.jpg</td>\n",
       "      <td>Indian</td>\n",
       "    </tr>\n",
       "    <tr>\n",
       "      <th>4</th>\n",
       "      <td>train/5.jpg</td>\n",
       "      <td>Indian</td>\n",
       "    </tr>\n",
       "    <tr>\n",
       "      <th>...</th>\n",
       "      <td>...</td>\n",
       "      <td>...</td>\n",
       "    </tr>\n",
       "    <tr>\n",
       "      <th>86739</th>\n",
       "      <td>train/86740.jpg</td>\n",
       "      <td>Indian</td>\n",
       "    </tr>\n",
       "    <tr>\n",
       "      <th>86740</th>\n",
       "      <td>train/86741.jpg</td>\n",
       "      <td>Indian</td>\n",
       "    </tr>\n",
       "    <tr>\n",
       "      <th>86741</th>\n",
       "      <td>train/86742.jpg</td>\n",
       "      <td>Indian</td>\n",
       "    </tr>\n",
       "    <tr>\n",
       "      <th>86742</th>\n",
       "      <td>train/86743.jpg</td>\n",
       "      <td>Black</td>\n",
       "    </tr>\n",
       "    <tr>\n",
       "      <th>86743</th>\n",
       "      <td>train/86744.jpg</td>\n",
       "      <td>White</td>\n",
       "    </tr>\n",
       "  </tbody>\n",
       "</table>\n",
       "<p>86744 rows × 2 columns</p>\n",
       "</div>"
      ],
      "text/plain": [
       "                  file        race\n",
       "0          train/1.jpg  East Asian\n",
       "1          train/2.jpg      Indian\n",
       "2          train/3.jpg       Black\n",
       "3          train/4.jpg      Indian\n",
       "4          train/5.jpg      Indian\n",
       "...                ...         ...\n",
       "86739  train/86740.jpg      Indian\n",
       "86740  train/86741.jpg      Indian\n",
       "86741  train/86742.jpg      Indian\n",
       "86742  train/86743.jpg       Black\n",
       "86743  train/86744.jpg       White\n",
       "\n",
       "[86744 rows x 2 columns]"
      ]
     },
     "execution_count": 17,
     "metadata": {},
     "output_type": "execute_result"
    }
   ],
   "source": [
    "train_label.drop(['gender', 'age', 'service_test'], axis=1)"
   ]
  },
  {
   "cell_type": "code",
   "execution_count": 27,
   "id": "aadd3c56-383c-461a-b7cf-f0de824b551a",
   "metadata": {},
   "outputs": [],
   "source": [
    "root_dir = Path('..')\n",
    "images_dir = 'data/images/'\n",
    "\n",
    "batch_size = 128\n",
    "\n",
    "# Create a FairFaceDataset object for the training data.\n",
    "fairface_train = data.FairFaceDataset('fairface_label_train.csv', \n",
    "                                        root_dir=root_dir, \n",
    "                                        mode='train',\n",
    "                                        encoders=encoders,\n",
    "                                        transform=transforms.Compose([transforms.ToTensor(),\n",
    "                                                                      transforms.RandomPerspective(p=0.5),\n",
    "                                                                      transforms.RandomGrayscale(p=0.2),\n",
    "                                                                      transforms.RandomAdjustSharpness(2, p=0.5),\n",
    "                                                                      transforms.Normalize(mean=[0.485, 0.456, 0.406], \n",
    "                                                                                           std=[0.229, 0.224, 0.225])\n",
    "                                                                      ]))\n",
    "# Set the FairFaceDataset object to train mode.\n",
    "fairface_train.train()\n",
    "# Create a DataLoader object for the training data.\n",
    "train_loader = DataLoader(fairface_train, batch_size=batch_size, shuffle=True, num_workers=8)\n",
    "\n",
    "# Create a FairFaceDataset object for the test data.\n",
    "fairface_test = data.FairFaceDataset('fairface_label_train.csv', \n",
    "                                     root_dir=root_dir, \n",
    "                                     mode='test',\n",
    "                                     encoders=encoders,\n",
    "                                     transform=transforms.Compose([transforms.ToTensor(),\n",
    "                                                                   transforms.Normalize(mean=[0.485, 0.456, 0.406], \n",
    "                                                                                        std=[0.229, 0.224, 0.225])]))\n",
    "# Set the FairFaceDataset object to train mode.\n",
    "fairface_test.train()\n",
    "# Create a DataLoader object for the test data.\n",
    "test_loader = DataLoader(fairface_test, batch_size=batch_size, shuffle=True, num_workers=8)\n",
    "\n",
    "# Create a FairFaceDataset object for the validation data.\n",
    "fairface_val = data.FairFaceDataset('fairface_label_val.csv', \n",
    "                                     root_dir=root_dir, \n",
    "                                     mode='val',\n",
    "                                     encoders=encoders,\n",
    "                                     transform=transforms.Compose([transforms.ToTensor(),\n",
    "                                                                   transforms.Normalize(mean=[0.485, 0.456, 0.406], \n",
    "                                                                                        std=[0.229, 0.224, 0.225])]))\n",
    "# Set the FairFaceDataset object to train mode.\n",
    "fairface_val.train()\n",
    "# Create a DataLoader object for the validation data.\n",
    "val_loader = DataLoader(fairface_val, batch_size=batch_size, shuffle=True, num_workers=8)"
   ]
  },
  {
   "cell_type": "code",
   "execution_count": 28,
   "id": "e23f225c-ce10-4312-b5a4-737d4521dd25",
   "metadata": {},
   "outputs": [
    {
     "name": "stderr",
     "output_type": "stream",
     "text": [
      "Clipping input data to the valid range for imshow with RGB data ([0..1] for floats or [0..255] for integers).\n"
     ]
    },
    {
     "data": {
      "image/png": "[encoded data removed]",
      "text/plain": [
       "<Figure size 640x480 with 1 Axes>"
      ]
     },
     "metadata": {},
     "output_type": "display_data"
    }
   ],
   "source": [
    "def display_torch_img(dataset, index):\n",
    "    \"\"\"Displays a single image from the given dataset at the given index.\n",
    "\n",
    "    Args:\n",
    "        dataset: A PyTorch dataset object or the array of tensors.\n",
    "        index: The index of the image to display.\n",
    "\n",
    "    Returns:\n",
    "        None.\n",
    "    \"\"\"\n",
    "\n",
    "    # Check if the dataset is a FairFaceDataset object.\n",
    "    if type(dataset) == data.FairFaceDataset:\n",
    "\n",
    "        # Get the image from the dataset.\n",
    "        img = dataset[index]['image']\n",
    "\n",
    "        # If the image is a 4D tensor, squeeze it to a 3D tensor.\n",
    "        if len(dataset[index]['image'].shape) == 4:\n",
    "            img = torch.squeeze(img)\n",
    "\n",
    "    # Otherwise, the dataset is assumed to be an array of tensors.\n",
    "    else:\n",
    "\n",
    "        # Get the image from the dataset.\n",
    "        img = dataset[index]\n",
    "\n",
    "    # Permute the image axes so that the channel axis is the last axis.\n",
    "    img = img.permute(1, 2, 0)\n",
    "\n",
    "    # Display the image using Matplotlib.\n",
    "    plt.imshow(img)\n",
    "    plt.show()\n",
    "\n",
    "display_torch_img(fairface_train, 8)"
   ]
  },
  {
   "cell_type": "code",
   "execution_count": 29,
   "id": "37b7c1bb-f275-46bb-bed4-81f1c9009e87",
   "metadata": {},
   "outputs": [],
   "source": [
    "img_grid = torchvision.utils.make_grid(fairface_train[13]['image'])\n",
    "writer.add_image('fairface_image1', img_grid)\n",
    "\n",
    "img_grid = torchvision.utils.make_grid(fairface_train[26]['image'])\n",
    "writer.add_image('fairface_image2', img_grid)\n",
    "\n",
    "for i in range(5):\n",
    "    img_grid = torchvision.utils.make_grid(fairface_train[14 + i]['image'])\n",
    "    writer.add_image(f'fairface_image{i + 3}', img_grid)"
   ]
  },
  {
   "cell_type": "code",
   "execution_count": 48,
   "id": "e0044985-41ab-4ba8-8b15-d016516b51e7",
   "metadata": {},
   "outputs": [
    {
     "name": "stdout",
     "output_type": "stream",
     "text": [
      "Adjusting learning rate of group 0 to 1.0000e-04.\n"
     ]
    }
   ],
   "source": [
    "device = torch.device(\"cuda:0\" if torch.cuda.is_available() else \"cpu\")\n",
    "resnet = resnet.to(device)\n",
    "model = resnet_model.FairFaceResNet(resnet).to(device)\n",
    "\n",
    "# For race and age classes\n",
    "bce = nn.BCELoss().to(device)\n",
    "criterion = nn.CrossEntropyLoss().to(device)\n",
    "optimizer = optim.Adam(model.parameters(), lr=1e-4)\n",
    "scheduler = lr_scheduler.MultiStepLR(optimizer, milestones=[5, 10, 15, 20, 25], gamma=0.5, verbose=True)"
   ]
  },
  {
   "cell_type": "code",
   "execution_count": null,
   "id": "e4b946bb-715a-4d3e-92d4-a33363ed1a3e",
   "metadata": {},
   "outputs": [
    {
     "name": "stderr",
     "output_type": "stream",
     "text": [
      "100%|████████████████████████████████████████████████████████████████████████████████████████████████████████| 2/2 [00:32<00:00, 16.31s/it]\n"
     ]
    },
    {
     "name": "stdout",
     "output_type": "stream",
     "text": [
      "Training step:\n",
      "Epoch = 1, Loss = 1.970808744430542\n",
      "Race accuracy = 0.21875\t\n"
     ]
    },
    {
     "name": "stderr",
     "output_type": "stream",
     "text": [
      "100%|████████████████████████████████████████████████████████████████████████████████████████████████████████| 2/2 [00:13<00:00,  6.50s/it]\n"
     ]
    },
    {
     "name": "stdout",
     "output_type": "stream",
     "text": [
      "Validation step:\n",
      "Epoch = 1, Loss = 1.9336770176887512\n",
      "Race accuracy = 0.15625\t\n",
      "End of Epoch: 1 \tTraining Loss: 1.970808744430542 \tValidation Loss: 1.9336770176887512\n",
      "Validation loss decreased (inf --> 1.9336770176887512).  Saving model ...\n"
     ]
    },
    {
     "name": "stderr",
     "output_type": "stream",
     "text": [
      "100%|████████████████████████████████████████████████████████████████████████████████████████████████████████| 2/2 [00:20<00:00, 10.18s/it]\n"
     ]
    },
    {
     "name": "stdout",
     "output_type": "stream",
     "text": [
      "Training step:\n",
      "Epoch = 2, Loss = 1.964167833328247\n",
      "Race accuracy = 0.09375\t\n"
     ]
    },
    {
     "name": "stderr",
     "output_type": "stream",
     "text": [
      "100%|████████████████████████████████████████████████████████████████████████████████████████████████████████| 2/2 [00:12<00:00,  6.23s/it]\n"
     ]
    },
    {
     "name": "stdout",
     "output_type": "stream",
     "text": [
      "Validation step:\n",
      "Epoch = 2, Loss = 1.9336713552474976\n",
      "Race accuracy = 0.15625\t\n",
      "End of Epoch: 2 \tTraining Loss: 1.964167833328247 \tValidation Loss: 1.9336713552474976\n",
      "Validation loss decreased (1.9336770176887512 --> 1.9336713552474976).  Saving model ...\n"
     ]
    },
    {
     "name": "stderr",
     "output_type": "stream",
     "text": [
      "100%|████████████████████████████████████████████████████████████████████████████████████████████████████████| 2/2 [00:21<00:00, 10.69s/it]\n"
     ]
    },
    {
     "name": "stdout",
     "output_type": "stream",
     "text": [
      "Training step:\n",
      "Epoch = 3, Loss = 1.9620373249053955\n",
      "Race accuracy = 0.21875\t\n"
     ]
    },
    {
     "name": "stderr",
     "output_type": "stream",
     "text": [
      "100%|████████████████████████████████████████████████████████████████████████████████████████████████████████| 2/2 [00:12<00:00,  6.14s/it]\n"
     ]
    },
    {
     "name": "stdout",
     "output_type": "stream",
     "text": [
      "Validation step:\n",
      "Epoch = 3, Loss = 1.9337040185928345\n",
      "Race accuracy = 0.125\t\n",
      "End of Epoch: 3 \tTraining Loss: 1.9620373249053955 \tValidation Loss: 1.9337040185928345\n"
     ]
    },
    {
     "name": "stderr",
     "output_type": "stream",
     "text": [
      "100%|████████████████████████████████████████████████████████████████████████████████████████████████████████| 2/2 [00:21<00:00, 10.99s/it]\n"
     ]
    },
    {
     "name": "stdout",
     "output_type": "stream",
     "text": [
      "Training step:\n",
      "Epoch = 4, Loss = 1.9600481986999512\n",
      "Race accuracy = 0.09375\t\n"
     ]
    },
    {
     "name": "stderr",
     "output_type": "stream",
     "text": [
      "100%|████████████████████████████████████████████████████████████████████████████████████████████████████████| 2/2 [00:11<00:00,  5.84s/it]\n"
     ]
    },
    {
     "name": "stdout",
     "output_type": "stream",
     "text": [
      "Validation step:\n",
      "Epoch = 4, Loss = 1.9338603615760803\n",
      "Race accuracy = 0.125\t\n",
      "End of Epoch: 4 \tTraining Loss: 1.9600481986999512 \tValidation Loss: 1.9338603615760803\n"
     ]
    },
    {
     "name": "stderr",
     "output_type": "stream",
     "text": [
      "100%|████████████████████████████████████████████████████████████████████████████████████████████████████████| 2/2 [00:20<00:00, 10.20s/it]\n"
     ]
    },
    {
     "name": "stdout",
     "output_type": "stream",
     "text": [
      "Training step:\n",
      "Epoch = 5, Loss = 1.9655301570892334\n",
      "Race accuracy = 0.09375\t\n"
     ]
    },
    {
     "name": "stderr",
     "output_type": "stream",
     "text": [
      "100%|████████████████████████████████████████████████████████████████████████████████████████████████████████| 2/2 [00:12<00:00,  6.48s/it]\n"
     ]
    },
    {
     "name": "stdout",
     "output_type": "stream",
     "text": [
      "Validation step:\n",
      "Epoch = 5, Loss = 1.93401437997818\n",
      "Race accuracy = 0.125\t\n",
      "End of Epoch: 5 \tTraining Loss: 1.9655301570892334 \tValidation Loss: 1.93401437997818\n"
     ]
    },
    {
     "name": "stderr",
     "output_type": "stream",
     "text": [
      "  0%|                                                                                                                | 0/2 [00:00<?, ?it/s]"
     ]
    }
   ],
   "source": [
    "# map ages\n",
    "mappings = {'race_map' : utils.get_mappings(race_dict)}\n",
    "\n",
    "class_dicts = {'race' : race_dict}\n",
    "# train the model\n",
    "best_model = train.train_model(model, criterion, \n",
    "                               optimizer, scheduler_lr=scheduler, \n",
    "                               device=device, loaders=[train_loader, test_loader],\n",
    "                               tensor_writer=writer, mappings=mappings, class_dicts=class_dicts, n_epochs=32)"
   ]
  },
  {
   "cell_type": "code",
   "execution_count": null,
   "id": "9f409db3-b542-4445-b96b-a9a45b0f4a56",
   "metadata": {},
   "outputs": [],
   "source": [
    "best_dir = Path('fix_when_model.pt')\n",
    "model, optimizer, epoch = utils.load_ckp(best_dir, model, optimizer)\n",
    "model = model.to(device)"
   ]
  },
  {
   "cell_type": "code",
   "execution_count": null,
   "id": "fd931718-c8fb-4a95-8398-2144041cc082",
   "metadata": {},
   "outputs": [],
   "source": [
    "mappings = {'race_map' : utils.get_mappings(race_dict)}\n",
    "\n",
    "races = metrics.build_confusion_matrix(model, val_loader, mappings, device=device)"
   ]
  },
  {
   "cell_type": "code",
   "execution_count": null,
   "id": "f4e1750a-04ab-4bb3-84a6-fa12e787d450",
   "metadata": {},
   "outputs": [],
   "source": [
    "metrics.calc_measures(model, val_loader, device)"
   ]
  },
  {
   "cell_type": "code",
   "execution_count": null,
   "id": "918a0f01-cb3b-4311-a3fc-cc32af5d99af",
   "metadata": {},
   "outputs": [],
   "source": [
    "def get_mismatched_classes(model, loader, true_cat, pred_cat, dictionary, output_class, device):\n",
    "    \"\"\"Gets the mismatched images for the given model, loader, true category, predicted category, dictionary, output class, and device.\n",
    "\n",
    "    Args:\n",
    "        model: The model to evaluate.\n",
    "        loader: The loader to use to load the data.\n",
    "        true_cat: The true category.\n",
    "        pred_cat: The predicted category.\n",
    "        dictionary: A dictionary mapping category names to indices.\n",
    "        output_class: The output class.\n",
    "        device: The device to use.\n",
    "\n",
    "    Returns:\n",
    "        A list of mismatched images.\n",
    "    \"\"\"\n",
    "    # Initialize a list to store the mismatched images.\n",
    "    mismatched_img = []\n",
    "    # Set the model to evaluation mode.\n",
    "    model.eval()\n",
    "    # Iterate over the loader.\n",
    "    with torch.no_grad():   \n",
    "          \n",
    "        for batch in tqdm(loader):\n",
    "            # Move the images and labels to the device.\n",
    "            image = batch['image'].to(device)\n",
    "            age = batch[output_class].to(device)\n",
    "            # Make a prediction.\n",
    "            output = model(image)\n",
    "\n",
    "            # Get the predicted class.\n",
    "            _, predicted = torch.max(torch.softmax(output[f'{output_class}_pred'].data, dim=1), 1)\n",
    "            # Iterate over the true and predicted classes.\n",
    "            for true, pred, img in zip(age, predicted, image):\n",
    "                # If the true and predicted categories are not the same, add the image to the list of mismatched images.\n",
    "                if dictionary[true_cat] == int(true) and dictionary[pred_cat] == int(pred):\n",
    "                    mismatched_img.append(img)\n",
    "                    \n",
    "    # Return the list of mismatched images.\n",
    "    return mismatched_img\n",
    "\n",
    "true_cat = 'Latino_Hispanic'\n",
    "pred_cat = 'Middle Eastern'\n",
    "mism_imgs = get_mismatched_classes(model, val_loader, true_cat, pred_cat, race_dict, 'race', device)\n",
    "mism_imgs = [i.cpu() for i in mism_imgs]"
   ]
  },
  {
   "cell_type": "code",
   "execution_count": null,
   "id": "8db016d5-e36f-48ea-81bc-60410e0fd8a3",
   "metadata": {},
   "outputs": [],
   "source": [
    "import matplotlib.pyplot as plt\n",
    "\n",
    "import torchvision.transforms.functional as F\n",
    "\n",
    "\n",
    "plt.rcParams[\"savefig.bbox\"] = 'tight'\n",
    "\n",
    "class Unnormalize(nn.Module):\n",
    "    def __init__(self, mean, std):\n",
    "        super(Unnormalize, self).__init__()\n",
    "        self.mean = torch.tensor(mean)\n",
    "        self.std = torch.tensor(std)\n",
    "\n",
    "    def forward(self, x):\n",
    "        return self.unnormalize(x)\n",
    "\n",
    "    def unnormalize(self, x):\n",
    "        # Assuming x is a PyTorch tensor\n",
    "        return x * self.std[None, :, None, None] + self.mean[None, :, None, None]\n",
    "\n",
    "def show(imgs, true_cat, pred_cat):\n",
    "    if not os.path.exists('../mismatched'):\n",
    "        os.mkdir('../mismatched')\n",
    "        \n",
    "    img_batch = []\n",
    "    cur_batch = 1\n",
    "    if not isinstance(imgs, list):\n",
    "        imgs = [imgs]\n",
    "    for i, img in enumerate(tqdm(imgs)):\n",
    "        img = np.array(img).transpose(1, 2, 0)\n",
    "        img_batch.append(img)\n",
    "        \n",
    "        if (i + 1) % 20 == 0:\n",
    "            fig = plt.figure(figsize=(8, 8))\n",
    "            plt.title(f'True category = {true_cat}; Mismatched one = {pred_cat}')\n",
    "            columns = 4\n",
    "            rows = 5\n",
    "            for i in range(1, columns*rows + 1):\n",
    "                img = img_batch[i - 1]\n",
    "                ax = fig.add_subplot(rows, columns, i)\n",
    "                ax.set_axis_off()\n",
    "                plt.imshow(img)\n",
    "            fig.set_tight_layout(tight=True)\n",
    "            fig.savefig(f'../mismatched/mismatched_age_number_{cur_batch}.png')\n",
    "            plt.close()\n",
    "\n",
    "            cur_batch += 1\n",
    "            img_batch = []\n",
    "\n",
    "# Example Usage:\n",
    "mean = [0.485, 0.456, 0.406]  # Replace with your actual mean values\n",
    "std = [0.229, 0.224, 0.225]   # Replace with your actual standard deviation values\n",
    "\n",
    "# Create an instance of Unnormalize\n",
    "unnormalize = Unnormalize(mean=mean, std=std)\n",
    "show([unnormalize(i).squeeze(0) for i in mism_imgs], true_cat, pred_cat)"
   ]
  }
 ],
 "metadata": {
  "kernelspec": {
   "display_name": "poetry-root-env",
   "language": "python",
   "name": "poetry-root-env"
  },
  "language_info": {
   "codemirror_mode": {
    "name": "ipython",
    "version": 3
   },
   "file_extension": ".py",
   "mimetype": "text/x-python",
   "name": "python",
   "nbconvert_exporter": "python",
   "pygments_lexer": "ipython3",
   "version": "3.11.0"
  }
 },
 "nbformat": 4,
 "nbformat_minor": 5
}
